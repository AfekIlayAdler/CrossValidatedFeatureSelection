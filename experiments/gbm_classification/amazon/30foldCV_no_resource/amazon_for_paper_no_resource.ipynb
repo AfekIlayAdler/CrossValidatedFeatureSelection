{
 "cells": [
  {
   "cell_type": "code",
   "execution_count": 1,
   "metadata": {},
   "outputs": [],
   "source": [
    "import sys\n",
    "sys.path.append(r\"C:\\Users\\afeki\\Desktop\\code\\CrossValidatedFeatureSelection\\experiments\")  # path contains python_file.py\n",
    "from plot_utils import get_results_data\n",
    "import numpy as np\n",
    "import pandas as pd\n",
    "import matplotlib.pyplot as plt\n",
    "import seaborn as sns\n",
    "%matplotlib inline\n",
    "%load_ext autoreload\n",
    "%autoreload 2"
   ]
  },
  {
   "cell_type": "code",
   "execution_count": 2,
   "metadata": {},
   "outputs": [
    {
     "data": {
      "text/html": [
       "<div>\n",
       "<style scoped>\n",
       "    .dataframe tbody tr th:only-of-type {\n",
       "        vertical-align: middle;\n",
       "    }\n",
       "\n",
       "    .dataframe tbody tr th {\n",
       "        vertical-align: top;\n",
       "    }\n",
       "\n",
       "    .dataframe thead th {\n",
       "        text-align: right;\n",
       "    }\n",
       "</style>\n",
       "<table border=\"1\" class=\"dataframe\">\n",
       "  <thead>\n",
       "    <tr style=\"text-align: right;\">\n",
       "      <th></th>\n",
       "      <th>Features</th>\n",
       "      <th>Feature Importance Type</th>\n",
       "      <th>Value</th>\n",
       "      <th>exp</th>\n",
       "      <th>Model</th>\n",
       "    </tr>\n",
       "  </thead>\n",
       "  <tbody>\n",
       "    <tr>\n",
       "      <th>0</th>\n",
       "      <td>MGR_ID</td>\n",
       "      <td>Gain</td>\n",
       "      <td>0.42808</td>\n",
       "      <td>0</td>\n",
       "      <td>LGBM</td>\n",
       "    </tr>\n",
       "    <tr>\n",
       "      <th>1</th>\n",
       "      <td>ROLE_CODE</td>\n",
       "      <td>Gain</td>\n",
       "      <td>0.00000</td>\n",
       "      <td>0</td>\n",
       "      <td>LGBM</td>\n",
       "    </tr>\n",
       "  </tbody>\n",
       "</table>\n",
       "</div>"
      ],
      "text/plain": [
       "    Features Feature Importance Type    Value  exp Model\n",
       "0     MGR_ID                    Gain  0.42808    0  LGBM\n",
       "1  ROLE_CODE                    Gain  0.00000    0  LGBM"
      ]
     },
     "execution_count": 2,
     "metadata": {},
     "output_type": "execute_result"
    }
   ],
   "source": [
    "FOLDER = \"C:/Users/afeki/Desktop/code/CrossValidatedFeatureSelection/experiments/gbm_classification/amazon/30FoldCV_no_resource\"\n",
    "fi, metrics = get_results_data(FOLDER, normalize=True, one_hot=False)\n",
    "metrics.to_csv(\"metrics_summary.csv\", index = None)\n",
    "\n",
    "def translate_value_names(df):\n",
    "    df_map = { 'gain': 'Gain', 'permutation_test' : \"Permutation \\n Test\", 'permutation_train' : 'Permutation \\n Train', 'shap_test': 'Shap','shap_train': 'Shap Train'}\n",
    "    model_map = {'LGBM' : 'LGBM', 'CATBOOST' : 'CATBOOST', 'Ours' : 'Ours', 'Vanilla_GBM' : 'Vanilla GBM', 'SKLEARN_MI' : 'SKLEARN Mean Imputing','XGBOOST_MI' : 'XGBOOST Mean Imputing'}\n",
    "    df['fi_type'] = df['fi_type'].map(df_map)\n",
    "    df['model'] = df['model'].map(model_map)\n",
    "    df.columns = ['Features', \"Feature Importance Type\", 'Value', 'exp','Model']\n",
    "    \n",
    "translate_value_names(fi)\n",
    "fi.head(2)"
   ]
  },
  {
   "cell_type": "code",
   "execution_count": 3,
   "metadata": {},
   "outputs": [],
   "source": [
    "feature_order = ['RESOURCE', 'MGR_ID', 'ROLE_FAMILY_DESC', 'ROLE_DEPTNAME',\n",
    "       'ROLE_TITLE', 'ROLE_CODE', 'ROLE_ROLLUP_2', 'ROLE_ROLLUP_1',\n",
    "       'ROLE_FAMILY']"
   ]
  },
  {
   "cell_type": "code",
   "execution_count": 4,
   "metadata": {},
   "outputs": [],
   "source": [
    "# def first_paper_graph(data,title):\n",
    "#     models = ['LGBM', 'Vanilla GBM', 'CATBOOST', 'Ours']\n",
    "#     fig,a =  plt.subplots(2,2,  figsize=(15, 8))\n",
    "#     plt.subplots_adjust(wspace = 0.1, hspace = 0.7)\n",
    "#     counter = 0\n",
    "#     for i in range(2):\n",
    "#         for j in range(2):\n",
    "#             temp_model = models[counter]\n",
    "#             plot_data = data[(data.Model == temp_model)]\n",
    "#             plot_data[\" \"] = plot_data[\"Value\"]\n",
    "#             plot_data = plot_data.set_index('Features')\n",
    "#             plot_data = plot_data.loc[feature_order,:].reset_index()\n",
    "#             ylim = 0.7\n",
    "#             a[i][j].set_title(temp_model)\n",
    "#             a[i][j].set_ylim(0,0.7)\n",
    "#             a[i][j].yaxis.set_label_coords(-0.2, 0.5)\n",
    "#             sns.barplot(x='Features', y=\" \", hue=\"Feature Importance Type\", data=plot_data, ax = a[i][j])\n",
    "#             a[i][j].set_xticklabels(a[i][j].get_xticklabels(), rotation=30, horizontalalignment='right')\n",
    "#             a[i][j].set_xlabel('')\n",
    "#             if temp_model != 'Ours':\n",
    "#                 handles, labels = a[i][j].get_legend_handles_labels()\n",
    "#             a[i][j].legend_.remove()\n",
    "#             counter += 1\n",
    "#     fig.legend(handles, labels, bbox_to_anchor = [0.88,0.88])\n",
    "#     fig.suptitle(title, fontsize=16)\n",
    "# #     fig.savefig(F\"{title}.png\")\n",
    "#     plt.show()\n",
    "    \n",
    "# first_paper_graph(fi[fi[\"Feature Importance Type\"] != 'Shap Train'],'Amazon Feature Importance') "
   ]
  }
 ],
 "metadata": {
  "kernelspec": {
   "display_name": "Python 3",
   "language": "python",
   "name": "python3"
  },
  "language_info": {
   "codemirror_mode": {
    "name": "ipython",
    "version": 3
   },
   "file_extension": ".py",
   "mimetype": "text/x-python",
   "name": "python",
   "nbconvert_exporter": "python",
   "pygments_lexer": "ipython3",
   "version": "3.7.6"
  }
 },
 "nbformat": 4,
 "nbformat_minor": 4
}
