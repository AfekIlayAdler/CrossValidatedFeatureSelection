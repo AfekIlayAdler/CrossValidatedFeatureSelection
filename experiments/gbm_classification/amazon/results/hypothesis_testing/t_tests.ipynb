{
 "cells": [
  {
   "cell_type": "markdown",
   "metadata": {},
   "source": [
    "# amazon"
   ]
  },
  {
   "cell_type": "code",
   "execution_count": 1,
   "metadata": {},
   "outputs": [],
   "source": [
    "import numpy as np\n",
    "import pandas as pd \n",
    "from ast import literal_eval\n",
    "from glob import glob\n",
    "from scipy.stats import ttest_ind"
   ]
  },
  {
   "cell_type": "markdown",
   "metadata": {},
   "source": [
    "$$\\mu_0 = \\textrm{ All Variables} $$\n",
    "$$\\mu_1 = \\textrm{ All Variables-resource}  $$\n",
    "$$H_0 : \\mu_0 < \\mu_1  \\textrm{ All features together is better} $$ "
   ]
  },
  {
   "cell_type": "code",
   "execution_count": 7,
   "metadata": {},
   "outputs": [],
   "source": [
    "def get_errors(glob_path):\n",
    "    l = []\n",
    "    for file in glob(glob_path):\n",
    "        l.append(pd.read_csv(file)['logloss'][0])\n",
    "    return l\n",
    "\n",
    "def perform_one_sided_test(a , b, significance_level = 0.05):\n",
    "    # h_0: a < b\n",
    "    t, two_sided_p_value = ttest_ind(a, b,equal_var = False)\n",
    "    print(F\"two sided p value: {two_sided_p_value}\")\n",
    "    one_sided_p_value = two_sided_p_value/2\n",
    "    if t > 0 and one_sided_p_value < significance_level:\n",
    "        result = 'H_1'\n",
    "    else:\n",
    "        result = 'H_0'\n",
    "    print(F\"t is {np.round(t,2)}\")\n",
    "    print(F\"mean: m_0: {np.round(np.mean(a),5)}, mean: m_1: {np.round(np.mean(b),5)}\")\n",
    "    print(F\"{result}, p_value: {np.round(one_sided_p_value,3)}\")"
   ]
  },
  {
   "cell_type": "markdown",
   "metadata": {},
   "source": [
    "## Resource\n",
    "#### LGBM"
   ]
  },
  {
   "cell_type": "code",
   "execution_count": 9,
   "metadata": {},
   "outputs": [
    {
     "name": "stdout",
     "output_type": "stream",
     "text": [
      "RESOURCE ,LGBM TEST\n",
      "H1 is a good result, small p_value\n",
      "two sided p value: 0.043453885997816744\n",
      "t is 2.07\n",
      "mean: m_0: 0.17372, mean: m_1: 0.16207\n",
      "H_1, p_value: 0.022\n"
     ]
    }
   ],
   "source": [
    "print(\"RESOURCE ,LGBM TEST\")\n",
    "print(\"H1 is a good result, small p_value\")\n",
    "m_0 , m_1  = get_errors('all_variables_kfold/lgbm/*.csv'), get_errors('no_resource_kfold/lgbm/*.csv')\n",
    "perform_one_sided_test(m_0 , m_1)"
   ]
  },
  {
   "cell_type": "markdown",
   "metadata": {},
   "source": [
    "#### CATBOOST"
   ]
  },
  {
   "cell_type": "code",
   "execution_count": 8,
   "metadata": {},
   "outputs": [
    {
     "name": "stdout",
     "output_type": "stream",
     "text": [
      "RESOURCE ,CATBOOST TEST\n",
      "H1 is a good result, small p_value\n",
      "two sided p value: 0.43910790807099553\n",
      "t is -0.78\n",
      "mean: m_0: 0.16087, mean: m_1: 0.16468\n",
      "H_0, p_value: 0.22\n"
     ]
    }
   ],
   "source": [
    "print(\"RESOURCE ,CATBOOST TEST\")\n",
    "print(\"H1 is a good result, small p_value\")\n",
    "m_0 , m_1  = get_errors('all_variables_kfold/catboost/*.csv'), get_errors('no_resource_kfold/catboost/*.csv')\n",
    "perform_one_sided_test(m_0 , m_1)"
   ]
  },
  {
   "cell_type": "markdown",
   "metadata": {},
   "source": [
    "#### OURS VANILLA"
   ]
  },
  {
   "cell_type": "code",
   "execution_count": 14,
   "metadata": {},
   "outputs": [
    {
     "name": "stdout",
     "output_type": "stream",
     "text": [
      "RESOURCE ,CATBOOST TEST\n",
      "H1 is a good result, small p_value\n",
      "two sided p value: 1.0206695076118919e-11\n",
      "t is 8.72\n",
      "mean: m_0: 0.27812, mean: m_1: 0.1945\n",
      "H_1, p_value: 0.0\n"
     ]
    }
   ],
   "source": [
    "print(\"RESOURCE ,OURS VANILLA TEST\")\n",
    "print(\"H1 is a good result, small p_value\")\n",
    "m_0 , m_1  = get_errors('all_variables_kfold/ours_vanilla/*.csv'), get_errors('no_resource_kfold/ours_vanilla/*.csv')\n",
    "perform_one_sided_test(m_0 , m_1)"
   ]
  },
  {
   "cell_type": "markdown",
   "metadata": {},
   "source": [
    "#### XGBOOST"
   ]
  },
  {
   "cell_type": "code",
   "execution_count": 17,
   "metadata": {},
   "outputs": [
    {
     "name": "stdout",
     "output_type": "stream",
     "text": [
      "RESOURCE ,XGBOOST TEST\n",
      "H1 is a good result, small p_value\n",
      "two sided p value: 2.1366130351353057e-07\n",
      "t is 5.92\n",
      "mean: m_0: 0.29473, mean: m_1: 0.23096\n",
      "H_1, p_value: 0.0\n"
     ]
    }
   ],
   "source": [
    "print(\"RESOURCE ,XGBOOST TEST\")\n",
    "print(\"H1 is a good result, small p_value\")\n",
    "m_0 , m_1  = get_errors('all_variables_kfold/xgboost/*.csv'), get_errors('no_resource_kfold/xgboost/*.csv')\n",
    "perform_one_sided_test(m_0 , m_1)"
   ]
  },
  {
   "cell_type": "markdown",
   "metadata": {},
   "source": [
    "## MGR_ID\n",
    "#### LGBM    "
   ]
  },
  {
   "cell_type": "code",
   "execution_count": 10,
   "metadata": {},
   "outputs": [
    {
     "name": "stdout",
     "output_type": "stream",
     "text": [
      "MGR_ID ,LGBM TEST\n",
      "H0 is a good result, big p_value\n",
      "two sided p value: 0.1193327195156183\n",
      "t is -1.58\n",
      "mean: m_0: 0.17372, mean: m_1: 0.18341\n",
      "H_0, p_value: 0.06\n"
     ]
    }
   ],
   "source": [
    "print(\"MGR_ID ,LGBM TEST\")\n",
    "print(\"H0 is a good result, big p_value\")\n",
    "m_0 , m_1  = get_errors('all_variables_kfold/lgbm/*.csv'), get_errors('no_mgrid_kfold/lgbm/*.csv')\n",
    "perform_one_sided_test(m_0 , m_1)"
   ]
  },
  {
   "cell_type": "markdown",
   "metadata": {},
   "source": [
    "#### CATBOOST"
   ]
  },
  {
   "cell_type": "code",
   "execution_count": 11,
   "metadata": {},
   "outputs": [
    {
     "name": "stdout",
     "output_type": "stream",
     "text": [
      "MGR_ID ,CATBOOST TEST\n",
      "H0 is a good result, big p_value\n",
      "two sided p value: 0.0007282572407369136\n",
      "t is -3.57\n",
      "mean: m_0: 0.16087, mean: m_1: 0.17939\n",
      "H_0, p_value: 0.0\n"
     ]
    }
   ],
   "source": [
    "print(\"MGR_ID ,CATBOOST TEST\")\n",
    "print(\"H0 is a good result, big p_value\")\n",
    "m_0 , m_1  = get_errors('all_variables_kfold/catboost/*.csv'), get_errors('no_mgrid_kfold/catboost/*.csv')\n",
    "perform_one_sided_test(m_0 , m_1)"
   ]
  },
  {
   "cell_type": "markdown",
   "metadata": {},
   "source": [
    "#### OURS VANILLA"
   ]
  },
  {
   "cell_type": "code",
   "execution_count": 15,
   "metadata": {},
   "outputs": [
    {
     "name": "stdout",
     "output_type": "stream",
     "text": [
      "MGR_ID ,CATBOOST TEST\n",
      "H0 is a good result, big p_value\n",
      "two sided p value: 0.08350176196668785\n",
      "t is 1.76\n",
      "mean: m_0: 0.27812, mean: m_1: 0.25923\n",
      "H_1, p_value: 0.042\n"
     ]
    }
   ],
   "source": [
    "print(\"MGR_ID ,CATBOOST TEST\")\n",
    "print(\"H0 is a good result, big p_value\")\n",
    "m_0 , m_1  = get_errors('all_variables_kfold/ours_vanilla/*.csv'), get_errors('no_mgrid_kfold/ours_vanilla/*.csv')\n",
    "perform_one_sided_test(m_0 , m_1)"
   ]
  },
  {
   "cell_type": "markdown",
   "metadata": {},
   "source": [
    "## role_family_desc\n",
    "#### LGBM    "
   ]
  },
  {
   "cell_type": "code",
   "execution_count": 12,
   "metadata": {},
   "outputs": [
    {
     "name": "stdout",
     "output_type": "stream",
     "text": [
      "no_role_family_desc_kfold ,LGBM TEST\n",
      "H0 is a good result, big p_value\n",
      "two sided p value: 0.4457839873270524\n",
      "t is -0.77\n",
      "mean: m_0: 0.17372, mean: m_1: 0.17853\n",
      "H_0, p_value: 0.223\n"
     ]
    }
   ],
   "source": [
    "print(\"no_role_family_desc_kfold ,LGBM TEST\")\n",
    "print(\"H0 is a good result, big p_value\")\n",
    "m_0 , m_1  = get_errors('all_variables_kfold/lgbm/*.csv'), get_errors('no_role_family_desc_kfold/lgbm/*.csv')\n",
    "perform_one_sided_test(m_0 , m_1)"
   ]
  },
  {
   "cell_type": "markdown",
   "metadata": {},
   "source": [
    "#### CATBOOST"
   ]
  },
  {
   "cell_type": "code",
   "execution_count": 13,
   "metadata": {},
   "outputs": [
    {
     "name": "stdout",
     "output_type": "stream",
     "text": [
      "no_role_family_desc_kfold ,CATBOOST TEST\n",
      "H0 is a good result, big p_value\n",
      "two sided p value: 0.41258163745452514\n",
      "t is -0.83\n",
      "mean: m_0: 0.16087, mean: m_1: 0.16514\n",
      "H_0, p_value: 0.206\n"
     ]
    }
   ],
   "source": [
    "print(\"no_role_family_desc_kfold ,CATBOOST TEST\")\n",
    "print(\"H0 is a good result, big p_value\")\n",
    "m_0 , m_1  = get_errors('all_variables_kfold/catboost/*.csv'), get_errors('no_role_family_desc_kfold/catboost/*.csv')\n",
    "perform_one_sided_test(m_0 , m_1)"
   ]
  },
  {
   "cell_type": "markdown",
   "metadata": {},
   "source": [
    "#### OURS VANILLA"
   ]
  },
  {
   "cell_type": "code",
   "execution_count": 16,
   "metadata": {},
   "outputs": [
    {
     "name": "stdout",
     "output_type": "stream",
     "text": [
      "no_role_family_desc_kfold ,CATBOOST TEST\n",
      "H0 is a good result, big p_value\n",
      "two sided p value: 0.24445200444039575\n",
      "t is -1.18\n",
      "mean: m_0: 0.27812, mean: m_1: 0.29131\n",
      "H_0, p_value: 0.122\n"
     ]
    }
   ],
   "source": [
    "print(\"no_role_family_desc_kfold ,CATBOOST TEST\")\n",
    "print(\"H0 is a good result, big p_value\")\n",
    "m_0 , m_1  = get_errors('all_variables_kfold/ours_vanilla/*.csv'), get_errors('no_role_family_desc_kfold/ours_vanilla/*.csv')\n",
    "perform_one_sided_test(m_0 , m_1)"
   ]
  }
 ],
 "metadata": {
  "kernelspec": {
   "display_name": "Python 3",
   "language": "python",
   "name": "python3"
  },
  "language_info": {
   "codemirror_mode": {
    "name": "ipython",
    "version": 3
   },
   "file_extension": ".py",
   "mimetype": "text/x-python",
   "name": "python",
   "nbconvert_exporter": "python",
   "pygments_lexer": "ipython3",
   "version": "3.7.6"
  }
 },
 "nbformat": 4,
 "nbformat_minor": 4
}
