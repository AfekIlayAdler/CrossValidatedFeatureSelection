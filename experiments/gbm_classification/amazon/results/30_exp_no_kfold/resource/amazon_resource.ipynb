{
 "cells": [
  {
   "cell_type": "markdown",
   "metadata": {},
   "source": [
    "# amazon"
   ]
  },
  {
   "cell_type": "code",
   "execution_count": 1,
   "metadata": {},
   "outputs": [],
   "source": [
    "import numpy as np\n",
    "import pandas as pd \n",
    "import matplotlib.pyplot as plt\n",
    "import seaborn as sns\n",
    "%matplotlib inline\n",
    "from ast import literal_eval\n",
    "from glob import glob"
   ]
  },
  {
   "cell_type": "code",
   "execution_count": 2,
   "metadata": {},
   "outputs": [],
   "source": [
    "def get_results(exp, path):\n",
    "    all_cols = cols = [ 'gain', 'permutation_train', 'permutation_test',\n",
    "       'shap_train', 'shap_test']\n",
    "    our_cols = [ 'gain', 'permutation_train', 'permutation_test']\n",
    "    cols = our_cols if exp.startswith('Ours') else all_cols\n",
    "    df = pd.read_csv(path, converters = {col: literal_eval for col in cols})\n",
    "    results = pd.DataFrame()\n",
    "    for col in cols:\n",
    "        results[col] = pd.Series(df.loc[0,col])\n",
    "    return results\n",
    "\n",
    "paths = {\n",
    "    'Lgbm' :\"lgbm/lgbm_vanilla.csv\",\n",
    "    'Catboost' :\"catboost/catboost_vanilla.csv\",\n",
    "#     \"Ours_kfold\" :\"ours_Kfold/ours_kfold__.csv\",\n",
    "#      \"Ours_Vanilla\" :\"ours_vanilla/ours_vanilla__.csv\",\n",
    "    \"Sklearn_MeanImputing\" : \"sklearn/sklearn_mean_imputing.csv\",\n",
    "#     \"Slearn_OneHot\" : \"sklearn/sklearn_one_hot.csv\",\n",
    "    'Xgboost_MeanImputing': \"xgboost/xgboost_mean_imputing.csv\",\n",
    "#     'Xgboost_OneHot': \"xgboost/xgboost_one_hot.csv\"\n",
    "}"
   ]
  },
  {
   "cell_type": "code",
   "execution_count": 2,
   "metadata": {},
   "outputs": [
    {
     "name": "stdout",
     "output_type": "stream",
     "text": [
      "0.176675017086592 0.008056342429118034 30\n"
     ]
    }
   ],
   "source": [
    "error = []\n",
    "for file in glob('lgbm/*.csv'):\n",
    "    error.append(pd.read_csv(file)['logloss'][0])\n",
    "print(np.mean(error), np.std(error), len(error))"
   ]
  },
  {
   "cell_type": "code",
   "execution_count": 4,
   "metadata": {},
   "outputs": [
    {
     "name": "stdout",
     "output_type": "stream",
     "text": [
      "0.16275512079215193 0.005915593488904775 30\n"
     ]
    }
   ],
   "source": [
    "error = []\n",
    "for file in glob('catboost/*.csv'):\n",
    "    error.append(pd.read_csv(file)['logloss'][0])\n",
    "print(np.mean(error), np.std(error), len(error))"
   ]
  },
  {
   "cell_type": "code",
   "execution_count": 10,
   "metadata": {},
   "outputs": [
    {
     "name": "stdout",
     "output_type": "stream",
     "text": [
      "0.17391718552730315 0.005921487934581956 30\n"
     ]
    }
   ],
   "source": [
    "error = []\n",
    "for file in glob('ours_kfold/*.csv'):\n",
    "    error.append(pd.read_csv(file)['logloss'][0])\n",
    "print(np.mean(error), np.std(error), len(error))"
   ]
  }
 ],
 "metadata": {
  "kernelspec": {
   "display_name": "Python 3",
   "language": "python",
   "name": "python3"
  },
  "language_info": {
   "codemirror_mode": {
    "name": "ipython",
    "version": 3
   },
   "file_extension": ".py",
   "mimetype": "text/x-python",
   "name": "python",
   "nbconvert_exporter": "python",
   "pygments_lexer": "ipython3",
   "version": "3.7.6"
  }
 },
 "nbformat": 4,
 "nbformat_minor": 4
}
