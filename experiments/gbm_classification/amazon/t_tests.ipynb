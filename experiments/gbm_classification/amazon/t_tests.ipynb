{
 "cells": [
  {
   "cell_type": "code",
   "execution_count": 1,
   "metadata": {},
   "outputs": [],
   "source": [
    "import sys\n",
    "import numpy as np\n",
    "import pandas as pd\n",
    "import matplotlib.pyplot as plt\n",
    "import seaborn as sns\n",
    "%matplotlib inline\n",
    "%load_ext autoreload\n",
    "%autoreload 2"
   ]
  },
  {
   "cell_type": "code",
   "execution_count": 2,
   "metadata": {},
   "outputs": [
    {
     "data": {
      "text/html": [
       "<div>\n",
       "<style scoped>\n",
       "    .dataframe tbody tr th:only-of-type {\n",
       "        vertical-align: middle;\n",
       "    }\n",
       "\n",
       "    .dataframe tbody tr th {\n",
       "        vertical-align: top;\n",
       "    }\n",
       "\n",
       "    .dataframe thead th {\n",
       "        text-align: right;\n",
       "    }\n",
       "</style>\n",
       "<table border=\"1\" class=\"dataframe\">\n",
       "  <thead>\n",
       "    <tr style=\"text-align: right;\">\n",
       "      <th></th>\n",
       "      <th>error</th>\n",
       "      <th>nleaves</th>\n",
       "      <th>ntrees</th>\n",
       "      <th>model</th>\n",
       "      <th>experiment</th>\n",
       "    </tr>\n",
       "  </thead>\n",
       "  <tbody>\n",
       "    <tr>\n",
       "      <th>0</th>\n",
       "      <td>0.148920</td>\n",
       "      <td>598.0</td>\n",
       "      <td>100.0</td>\n",
       "      <td>LGBM</td>\n",
       "      <td>With Resource</td>\n",
       "    </tr>\n",
       "    <tr>\n",
       "      <th>1</th>\n",
       "      <td>0.175643</td>\n",
       "      <td>586.0</td>\n",
       "      <td>100.0</td>\n",
       "      <td>LGBM</td>\n",
       "      <td>With Resource</td>\n",
       "    </tr>\n",
       "    <tr>\n",
       "      <th>2</th>\n",
       "      <td>0.178575</td>\n",
       "      <td>601.0</td>\n",
       "      <td>100.0</td>\n",
       "      <td>LGBM</td>\n",
       "      <td>With Resource</td>\n",
       "    </tr>\n",
       "    <tr>\n",
       "      <th>3</th>\n",
       "      <td>0.143573</td>\n",
       "      <td>602.0</td>\n",
       "      <td>100.0</td>\n",
       "      <td>LGBM</td>\n",
       "      <td>With Resource</td>\n",
       "    </tr>\n",
       "    <tr>\n",
       "      <th>4</th>\n",
       "      <td>0.177686</td>\n",
       "      <td>598.0</td>\n",
       "      <td>100.0</td>\n",
       "      <td>LGBM</td>\n",
       "      <td>With Resource</td>\n",
       "    </tr>\n",
       "  </tbody>\n",
       "</table>\n",
       "</div>"
      ],
      "text/plain": [
       "      error  nleaves  ntrees model     experiment\n",
       "0  0.148920    598.0   100.0  LGBM  With Resource\n",
       "1  0.175643    586.0   100.0  LGBM  With Resource\n",
       "2  0.178575    601.0   100.0  LGBM  With Resource\n",
       "3  0.143573    602.0   100.0  LGBM  With Resource\n",
       "4  0.177686    598.0   100.0  LGBM  With Resource"
      ]
     },
     "execution_count": 2,
     "metadata": {},
     "output_type": "execute_result"
    }
   ],
   "source": [
    "with_resource = pd.read_csv('30foldCV/metrics_summary.csv')\n",
    "with_resource['experiment'] = 'With Resource'\n",
    "without_resource = pd.read_csv('30foldCV_no_Resource/metrics_summary.csv')\n",
    "without_resource['experiment'] = 'Without Resource'\n",
    "plot_data = pd.concat([with_resource, without_resource])\n",
    "plot_data.head(5)"
   ]
  },
  {
   "cell_type": "code",
   "execution_count": 3,
   "metadata": {},
   "outputs": [],
   "source": [
    "model_map = {'LGBM' : 'LGBM', 'CATBOOST' : 'CatBoost', 'Ours' : 'Ours', 'Vanilla_GBM' : 'Vanilla GBM', 'SKLEARN_MI' : 'Scikit-Learn Mean Imputing','XGBOOST_MI' : 'XGBoost Mean Imputing'}\n",
    "plot_data['model'] = plot_data['model'].map(model_map)"
   ]
  },
  {
   "cell_type": "code",
   "execution_count": 4,
   "metadata": {},
   "outputs": [
    {
     "data": {
      "image/png": "[encoded data removed]",
      "text/plain": [
       "<Figure size 576x360 with 1 Axes>"
      ]
     },
     "metadata": {
      "needs_background": "light"
     },
     "output_type": "display_data"
    }
   ],
   "source": [
    "plt.figure(figsize=(8,5))\n",
    "temp_plot_data = plot_data[plot_data['model'].isin(['LGBM', 'Vanilla GBM', 'CatBoost', 'Ours'])]\n",
    "ax = sns.boxplot(x = 'model', y = 'error', hue = 'experiment', data = temp_plot_data, flierprops = dict(markerfacecolor = '0.50', markersize = 1))\n",
    "ax.set_title('Error on Amazon')\n",
    "ax.set_xlabel('Model')\n",
    "ax.set_ylabel('Error')\n",
    "ax.set_xticklabels(ax.get_xticklabels(), rotation=30, horizontalalignment='right')\n",
    "handles, labels = ax.get_legend_handles_labels()\n",
    "ax.legend(handles=handles, labels=labels)\n",
    "ax.get_figure().savefig(f\"error_on_amazon_with_without_resource.png\")\n",
    "plt.show()"
   ]
  },
  {
   "cell_type": "code",
   "execution_count": 5,
   "metadata": {},
   "outputs": [
    {
     "data": {
      "text/plain": [
       "model                       experiment      \n",
       "CatBoost                    With Resource       0.160560\n",
       "                            Without Resource    0.164677\n",
       "LGBM                        With Resource       0.172439\n",
       "                            Without Resource    0.161736\n",
       "Ours                        With Resource       0.171563\n",
       "                            Without Resource    0.172260\n",
       "Scikit-Learn Mean Imputing  With Resource       0.276020\n",
       "                            Without Resource    0.207310\n",
       "Vanilla GBM                 With Resource       0.279460\n",
       "                            Without Resource    0.193582\n",
       "XGBoost Mean Imputing       With Resource       0.295272\n",
       "                            Without Resource    0.228885\n",
       "Name: error, dtype: float64"
      ]
     },
     "execution_count": 5,
     "metadata": {},
     "output_type": "execute_result"
    }
   ],
   "source": [
    "plot_data.groupby(['model','experiment'])['error'].mean()"
   ]
  },
  {
   "cell_type": "code",
   "execution_count": 6,
   "metadata": {},
   "outputs": [],
   "source": [
    "from scipy.stats import ttest_ind\n",
    "\n",
    "def perform_one_sided_test(a , b, significance_level = 0.05):\n",
    "    # h_0: a < b\n",
    "    print(F\"Variance of the samples: {np.round(np.std(a),5)} {np.round(np.std(b),5)}\")\n",
    "    t, two_sided_p_value = ttest_ind(a, b,equal_var = False)\n",
    "    print(F\"two sided p value: {two_sided_p_value}\")\n",
    "    one_sided_p_value = two_sided_p_value/2\n",
    "    if t > 0 and one_sided_p_value < significance_level:\n",
    "        result = 'H_1'\n",
    "    else:\n",
    "        result = 'H_0'\n",
    "    print(F\"t is {np.round(t,2)}\")\n",
    "    print(F\"mean: m_0: {np.round(np.mean(a),5)}, mean: m_1: {np.round(np.mean(b),5)}\")\n",
    "    print(F\"{result}, p_value: {np.round(one_sided_p_value,3)}\")"
   ]
  },
  {
   "cell_type": "code",
   "execution_count": 7,
   "metadata": {},
   "outputs": [
    {
     "name": "stdout",
     "output_type": "stream",
     "text": [
      "MODEL: LGBM\n",
      "##################################################\n",
      "Variance of the samples: nan nan\n",
      "two sided p value: nan\n",
      "t is nan\n",
      "mean: m_0: nan, mean: m_1: nan\n",
      "H_0, p_value: nan\n",
      "MODEL: CatBoost\n",
      "##################################################\n",
      "Variance of the samples: nan nan\n",
      "two sided p value: nan\n",
      "t is nan\n",
      "mean: m_0: nan, mean: m_1: nan\n",
      "H_0, p_value: nan\n",
      "MODEL: Ours\n",
      "##################################################\n",
      "Variance of the samples: nan nan\n",
      "two sided p value: nan\n",
      "t is nan\n",
      "mean: m_0: nan, mean: m_1: nan\n",
      "H_0, p_value: nan\n",
      "MODEL: Vanilla GBM\n",
      "##################################################\n",
      "Variance of the samples: nan nan\n",
      "two sided p value: nan\n",
      "t is nan\n",
      "mean: m_0: nan, mean: m_1: nan\n",
      "H_0, p_value: nan\n",
      "MODEL: Scikit-Learn Mean Imputing\n",
      "##################################################\n",
      "Variance of the samples: nan nan\n",
      "two sided p value: nan\n",
      "t is nan\n",
      "mean: m_0: nan, mean: m_1: nan\n",
      "H_0, p_value: nan\n",
      "MODEL: XGBoost Mean Imputing\n",
      "##################################################\n",
      "Variance of the samples: nan nan\n",
      "two sided p value: nan\n",
      "t is nan\n",
      "mean: m_0: nan, mean: m_1: nan\n",
      "H_0, p_value: nan\n"
     ]
    },
    {
     "name": "stderr",
     "output_type": "stream",
     "text": [
      "C:\\Users\\afeki\\anaconda3\\lib\\site-packages\\numpy\\core\\_methods.py:217: RuntimeWarning: Degrees of freedom <= 0 for slice\n",
      "  keepdims=keepdims)\n",
      "C:\\Users\\afeki\\anaconda3\\lib\\site-packages\\numpy\\core\\_methods.py:186: RuntimeWarning: invalid value encountered in true_divide\n",
      "  arrmean, rcount, out=arrmean, casting='unsafe', subok=False)\n",
      "C:\\Users\\afeki\\anaconda3\\lib\\site-packages\\numpy\\core\\_methods.py:209: RuntimeWarning: invalid value encountered in double_scalars\n",
      "  ret = ret.dtype.type(ret / rcount)\n",
      "C:\\Users\\afeki\\anaconda3\\lib\\site-packages\\numpy\\core\\fromnumeric.py:3335: RuntimeWarning: Mean of empty slice.\n",
      "  out=out, **kwargs)\n",
      "C:\\Users\\afeki\\anaconda3\\lib\\site-packages\\numpy\\core\\_methods.py:161: RuntimeWarning: invalid value encountered in double_scalars\n",
      "  ret = ret.dtype.type(ret / rcount)\n"
     ]
    }
   ],
   "source": [
    "for model in plot_data.model.unique():\n",
    "    with_ = plot_data[(plot_data.model == model) & (plot_data.experiment == 'with_resource')]['error'].tolist()\n",
    "    without_ = plot_data[(plot_data.model == model) & (plot_data.experiment == 'without_resource')]['error'].tolist()\n",
    "    print(f'MODEL: {model}')\n",
    "    print('#'*50)\n",
    "    perform_one_sided_test(with_ , without_)"
   ]
  }
 ],
 "metadata": {
  "kernelspec": {
   "display_name": "Python 3",
   "language": "python",
   "name": "python3"
  },
  "language_info": {
   "codemirror_mode": {
    "name": "ipython",
    "version": 3
   },
   "file_extension": ".py",
   "mimetype": "text/x-python",
   "name": "python",
   "nbconvert_exporter": "python",
   "pygments_lexer": "ipython3",
   "version": "3.7.6"
  }
 },
 "nbformat": 4,
 "nbformat_minor": 4
}
